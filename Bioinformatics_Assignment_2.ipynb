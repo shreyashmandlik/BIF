{
 "cells": [
  {
   "cell_type": "markdown",
   "id": "261fb04a-2323-4998-9827-9fe5276fe8db",
   "metadata": {},
   "source": [
    "#### Assignment: RNA-Seq Data Analysis.\n",
    "Task: Analyze a provided RNA-Seq dataset and perform differential\n",
    "gene expression analysis. \n",
    "Deliverable: A detailed report presenting the differentially expressed genes, their\n",
    "functional annotations, and any potential biological interpretations\n"
   ]
  },
  {
   "cell_type": "code",
   "execution_count": 1,
   "id": "8a0d8dea-336f-4cfa-af63-8bffa98020eb",
   "metadata": {},
   "outputs": [],
   "source": [
    "import pandas as pd\n",
    "import numpy as np\n",
    "from scipy.stats import ttest_ind\n",
    "from statsmodels.stats.multitest import multipletests"
   ]
  },
  {
   "cell_type": "code",
   "execution_count": 8,
   "id": "ad842b64-9932-4a4e-8df3-aa292806a85d",
   "metadata": {},
   "outputs": [],
   "source": [
    "# Simulated RNA-Seq Data Generation\n",
    "np.random.seed(42)\n",
    "genes = [\"Gene1\", \"Gene2\", \"Gene3\", \"Gene4\"]\n",
    "sample1_counts = np.random.poisson(lam=100, size=10)  # 10 replicates for sample 1\n",
    "sample2_counts = np.random.poisson(lam=80, size=10)  # 10 replicates for sample 2\n",
    "\n",
    "# Create a DataFrame for counts\n",
    "data = pd.DataFrame({\n",
    "    \"Gene\": genes,\n",
    "    \"Sample1_Counts\": [np.random.poisson(lam=100, size=10) for _ in genes],\n",
    "    \"Sample2_Counts\": [np.random.poisson(lam=80, size=10) for _ in genes]\n",
    "})\n"
   ]
  },
  {
   "cell_type": "code",
   "execution_count": 12,
   "id": "ad3fbaf5",
   "metadata": {},
   "outputs": [
    {
     "data": {
      "text/html": [
       "<div>\n",
       "<style scoped>\n",
       "    .dataframe tbody tr th:only-of-type {\n",
       "        vertical-align: middle;\n",
       "    }\n",
       "\n",
       "    .dataframe tbody tr th {\n",
       "        vertical-align: top;\n",
       "    }\n",
       "\n",
       "    .dataframe thead th {\n",
       "        text-align: right;\n",
       "    }\n",
       "</style>\n",
       "<table border=\"1\" class=\"dataframe\">\n",
       "  <thead>\n",
       "    <tr style=\"text-align: right;\">\n",
       "      <th></th>\n",
       "      <th>Gene</th>\n",
       "      <th>Sample1_Counts</th>\n",
       "      <th>Sample2_Counts</th>\n",
       "      <th>Sample1_Mean</th>\n",
       "      <th>Sample2_Mean</th>\n",
       "      <th>PValue</th>\n",
       "      <th>AdjPValue</th>\n",
       "    </tr>\n",
       "  </thead>\n",
       "  <tbody>\n",
       "    <tr>\n",
       "      <th>0</th>\n",
       "      <td>Gene1</td>\n",
       "      <td>[103, 84, 76, 97, 111, 93, 87, 108, 106, 108]</td>\n",
       "      <td>[83, 60, 94, 69, 85, 73, 76, 83, 66, 75]</td>\n",
       "      <td>97.3</td>\n",
       "      <td>76.4</td>\n",
       "      <td>0.000503</td>\n",
       "      <td>0.000503</td>\n",
       "    </tr>\n",
       "    <tr>\n",
       "      <th>1</th>\n",
       "      <td>Gene2</td>\n",
       "      <td>[96, 113, 95, 94, 107, 114, 86, 108, 108, 101]</td>\n",
       "      <td>[85, 80, 84, 85, 97, 76, 96, 73, 89, 81]</td>\n",
       "      <td>102.2</td>\n",
       "      <td>84.6</td>\n",
       "      <td>0.000219</td>\n",
       "      <td>0.000434</td>\n",
       "    </tr>\n",
       "    <tr>\n",
       "      <th>2</th>\n",
       "      <td>Gene3</td>\n",
       "      <td>[94, 116, 97, 91, 94, 118, 104, 110, 115, 94]</td>\n",
       "      <td>[66, 94, 76, 93, 84, 70, 83, 66, 81, 84]</td>\n",
       "      <td>103.3</td>\n",
       "      <td>79.7</td>\n",
       "      <td>0.000074</td>\n",
       "      <td>0.000297</td>\n",
       "    </tr>\n",
       "    <tr>\n",
       "      <th>3</th>\n",
       "      <td>Gene4</td>\n",
       "      <td>[91, 110, 98, 86, 121, 100, 96, 127, 100, 93]</td>\n",
       "      <td>[86, 75, 84, 84, 66, 73, 93, 88, 82, 71]</td>\n",
       "      <td>102.2</td>\n",
       "      <td>80.2</td>\n",
       "      <td>0.000326</td>\n",
       "      <td>0.000434</td>\n",
       "    </tr>\n",
       "  </tbody>\n",
       "</table>\n",
       "</div>"
      ],
      "text/plain": [
       "    Gene                                  Sample1_Counts  \\\n",
       "0  Gene1   [103, 84, 76, 97, 111, 93, 87, 108, 106, 108]   \n",
       "1  Gene2  [96, 113, 95, 94, 107, 114, 86, 108, 108, 101]   \n",
       "2  Gene3   [94, 116, 97, 91, 94, 118, 104, 110, 115, 94]   \n",
       "3  Gene4   [91, 110, 98, 86, 121, 100, 96, 127, 100, 93]   \n",
       "\n",
       "                             Sample2_Counts  Sample1_Mean  Sample2_Mean  \\\n",
       "0  [83, 60, 94, 69, 85, 73, 76, 83, 66, 75]          97.3          76.4   \n",
       "1  [85, 80, 84, 85, 97, 76, 96, 73, 89, 81]         102.2          84.6   \n",
       "2  [66, 94, 76, 93, 84, 70, 83, 66, 81, 84]         103.3          79.7   \n",
       "3  [86, 75, 84, 84, 66, 73, 93, 88, 82, 71]         102.2          80.2   \n",
       "\n",
       "     PValue  AdjPValue  \n",
       "0  0.000503   0.000503  \n",
       "1  0.000219   0.000434  \n",
       "2  0.000074   0.000297  \n",
       "3  0.000326   0.000434  "
      ]
     },
     "execution_count": 12,
     "metadata": {},
     "output_type": "execute_result"
    }
   ],
   "source": [
    "data"
   ]
  },
  {
   "cell_type": "code",
   "execution_count": 9,
   "id": "a1a407e1-c1b9-4245-9c70-35c66e9f300e",
   "metadata": {},
   "outputs": [],
   "source": [
    "# Calculate mean counts for each gene\n",
    "data[\"Sample1_Mean\"] = [np.mean(counts) for counts in data[\"Sample1_Counts\"]]\n",
    "data[\"Sample2_Mean\"] = [np.mean(counts) for counts in data[\"Sample2_Counts\"]]\n",
    "\n",
    "# Differential Expression Analysis\n",
    "p_values = []\n",
    "for _, row in data.iterrows():\n",
    "    _, p_value = ttest_ind(row[\"Sample1_Counts\"], row[\"Sample2_Counts\"])\n",
    "    p_values.append(p_value)\n",
    "\n",
    "data[\"PValue\"] = p_values\n",
    "\n",
    "# Correct p-values for multiple testing (e.g., using FDR)\n",
    "data[\"AdjPValue\"] = multipletests(data[\"PValue\"], method='fdr_bh')[1]\n",
    "\n",
    "# Identify Differentially Expressed Genes\n",
    "differential_genes = data[data[\"AdjPValue\"] < 0.05]"
   ]
  },
  {
   "cell_type": "code",
   "execution_count": 10,
   "id": "c46f25a8-3ff6-4e49-9c1e-a4de94d10c52",
   "metadata": {},
   "outputs": [],
   "source": [
    "# Simulated Gene Ontology terms for demonstration\n",
    "annotations = {\n",
    "    \"Gene1\": \"GO:0001234,GO:5678901\",\n",
    "    \"Gene2\": \"GO:2345678,GO:8901234\",\n",
    "    \"Gene3\": \"GO:1234567\",\n",
    "    \"Gene4\": \"GO:5678901,GO:2345678\"\n",
    "}\n",
    "\n",
    "# Functional Annotation and Biological Interpretation\n",
    "differential_genes[\"GO_Annotations\"] = differential_genes[\"Gene\"].map(annotations)"
   ]
  },
  {
   "cell_type": "code",
   "execution_count": 11,
   "id": "da1a14ba-f1f1-456d-a2fc-44744eabf998",
   "metadata": {},
   "outputs": [
    {
     "name": "stdout",
     "output_type": "stream",
     "text": [
      "Analysis report generated as 'RNA_SEQ_ANALYSIS.txt'.\n"
     ]
    }
   ],
   "source": [
    "report_lines = []\n",
    "report_lines.append(\"RNA-Seq Differential Expression Analysis Report\\n\")\n",
    "report_lines.append(\"=\"*50)\n",
    "report_lines.append(\"Summary of Analysis:\\n\")\n",
    "report_lines.append(\"The analysis was conducted to identify differentially expressed genes between two conditions using RNA-Seq data.\\n\")\n",
    "report_lines.append(\"=\"*50)\n",
    "\n",
    "report_lines.append(\"Differentially Expressed Genes:\\n\")\n",
    "if not differential_genes.empty:\n",
    "    report_lines.append(f\"{'Gene':<10} {'Mean Sample1':>15} {'Mean Sample2':>15} {'Adj. P-Value':>20}\")\n",
    "    report_lines.append(\"=\"*60)\n",
    "    for _, row in differential_genes.iterrows():\n",
    "        report_lines.append(f\"{row['Gene']:<10} {row['Sample1_Mean']:>15.2f} {row['Sample2_Mean']:>15.2f} {row['AdjPValue']:>20.4f}\")\n",
    "else:\n",
    "    report_lines.append(\"No genes were found to be differentially expressed.\\n\")\n",
    "\n",
    "report_lines.append(\"=\"*50)\n",
    "report_lines.append(\"Functional Annotations:\\n\")\n",
    "if not differential_genes.empty:\n",
    "    report_lines.append(f\"{'Gene':<10} {'GO Annotations':<30}\")\n",
    "    report_lines.append(\"=\"*40)\n",
    "    for _, row in differential_genes.iterrows():\n",
    "        go_terms = row[\"GO_Annotations\"] if pd.notna(row[\"GO_Annotations\"]) else \"No annotations available\"\n",
    "        report_lines.append(f\"{row['Gene']:<10} {go_terms:<30}\")\n",
    "else:\n",
    "    report_lines.append(\"No functional annotations available.\\n\")\n",
    "\n",
    "# Save the report to a file\n",
    "with open(\"RNA_SEQ_ANALYSIS.txt\", \"w\") as report_file:\n",
    "    report_file.write(\"\\n\".join(report_lines))\n",
    "\n",
    "print(\"Analysis report generated as 'RNA_SEQ_ANALYSIS.txt'.\")"
   ]
  },
  {
   "cell_type": "code",
   "execution_count": null,
   "id": "24a41e4a-aea1-474d-a55f-f2ad8aaceb3c",
   "metadata": {},
   "outputs": [],
   "source": []
  },
  {
   "cell_type": "code",
   "execution_count": null,
   "id": "ee52991d-ad22-48fd-9b43-111c49998a76",
   "metadata": {},
   "outputs": [],
   "source": []
  },
  {
   "cell_type": "code",
   "execution_count": null,
   "id": "ecedb88a-ed79-4959-be7f-58f44f9b9983",
   "metadata": {},
   "outputs": [],
   "source": []
  },
  {
   "cell_type": "code",
   "execution_count": null,
   "id": "4e1553b7-cee5-4ef0-935b-9baacf46bbdb",
   "metadata": {},
   "outputs": [],
   "source": []
  }
 ],
 "metadata": {
  "kernelspec": {
   "display_name": "Python 3 (ipykernel)",
   "language": "python",
   "name": "python3"
  },
  "language_info": {
   "codemirror_mode": {
    "name": "ipython",
    "version": 3
   },
   "file_extension": ".py",
   "mimetype": "text/x-python",
   "name": "python",
   "nbconvert_exporter": "python",
   "pygments_lexer": "ipython3",
   "version": "3.9.7"
  }
 },
 "nbformat": 4,
 "nbformat_minor": 5
}
