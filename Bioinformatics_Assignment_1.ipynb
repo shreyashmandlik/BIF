{
 "cells": [
  {
   "cell_type": "markdown",
   "id": "7e656368-bc94-4f60-b5e2-f92a19584ffd",
   "metadata": {},
   "source": [
    "#### 1. Assignment: DNA Sequence Analysis. \n",
    "Task: Analyze a given DNA sequence and perform basic sequence \n",
    "manipulation, including finding motifs, calculating GC content, and identifying coding regions. Deliverable:  A \n",
    "report summarizing the analysis results and any insights gained from the sequence."
   ]
  },
  {
   "cell_type": "code",
   "execution_count": 13,
   "id": "6a4ecabc-bee8-4f32-af91-bc40c4572990",
   "metadata": {},
   "outputs": [],
   "source": [
    "import Bio\n",
    "from Bio.Seq import Seq\n",
    "from Bio.SeqUtils import gc_fraction"
   ]
  },
  {
   "cell_type": "code",
   "execution_count": 14,
   "id": "e624fc7e-2825-4614-b665-e70a33879ea4",
   "metadata": {},
   "outputs": [],
   "source": [
    "#Providing DNA Sequences\n",
    "dna_sequence = \"GCATGCTGCGAAACTTTGGCTGAGCATGCTGCGAAACTTTGGCTGAGCATGCTGCGAAACTTTGGCTGA\"\n",
    "\n",
    "#Creating object for Seq\n",
    "seq = Seq(dna_sequence)"
   ]
  },
  {
   "cell_type": "code",
   "execution_count": 15,
   "id": "805d9958-518f-42ab-9dd8-585a4b055e12",
   "metadata": {},
   "outputs": [],
   "source": [
    "# creating function\n",
    "# Function to find motifs in the sequence\n",
    "def find_motifs(sequence, motif):\n",
    "    positions = [i for i in range(len(sequence) - len(motif) + 1) if sequence[i:i + len(motif)] == motif]\n",
    "    return positions\n",
    "\n",
    "# Function to identify coding regions \n",
    "def identify_coding_regions(sequence):\n",
    "    start_codon = \"ATG\"\n",
    "    stop_codons = [\"TAA\", \"TAG\", \"TGA\"]\n",
    "    coding_regions = []\n",
    "    i = 0\n",
    "\n",
    "    while i < len(sequence):\n",
    "        if sequence[i:i + 3] == start_codon:\n",
    "            start_index = i\n",
    "            i += 3\n",
    "            while i < len(sequence):\n",
    "                if sequence[i:i + 3] in stop_codons:\n",
    "                    stop_index = i + 3\n",
    "                    coding_regions.append((start_index, stop_index))\n",
    "                    break\n",
    "                i += 3\n",
    "        else:\n",
    "            i += 1\n",
    "\n",
    "    return coding_regions"
   ]
  },
  {
   "cell_type": "code",
   "execution_count": 16,
   "id": "09a14365-370a-4f31-a355-94a15097a5b9",
   "metadata": {},
   "outputs": [],
   "source": [
    "# finding motifs\n",
    "motif1 = \"GCATGCTGC\"\n",
    "motif2 = \"AACTTTGGC\"\n",
    "motif1_positions = find_motifs(seq, motif1)\n",
    "motif2_positions = find_motifs(seq, motif2)"
   ]
  },
  {
   "cell_type": "code",
   "execution_count": 17,
   "id": "990a97f8-1732-42c9-98d3-adc54c62c526",
   "metadata": {},
   "outputs": [],
   "source": [
    "# GC Content and Coding Region\n",
    "# Calculating GC content\n",
    "gc_content = gc_fraction(seq)\n",
    "\n",
    "# Identifying coding regions\n",
    "coding_regions = identify_coding_regions(seq)"
   ]
  },
  {
   "cell_type": "code",
   "execution_count": 18,
   "id": "482e02df-7e7d-4a14-90ce-2cb63edcc1ea",
   "metadata": {},
   "outputs": [
    {
     "name": "stdout",
     "output_type": "stream",
     "text": [
      "Analysis report generated as 'DNA_SEQUENCE_ANALYSIS.txt'.\n"
     ]
    }
   ],
   "source": [
    "# Generating a report\n",
    "report = \"DNA Sequence Analysis Report\\n\\n\"\n",
    "report += f\"Provided DNA Sequence:\\n{seq}\\n\\n\"\n",
    "report += \"Analysis 1: Finding Motifs\\n\"\n",
    "report += f\"Motif 1 ({motif1}) found at positions: {motif1_positions}\\n\"\n",
    "report += f\"Motif 2 ({motif2}) found at positions: {motif2_positions}\\n\\n\"\n",
    "report += \"Analysis 2: Calculating GC Content\\n\"\n",
    "report += f\"GC Content: {gc_content:.2%}\\n\\n\"\n",
    "report += \"Analysis 3: Identifying Coding Regions\\n\"\n",
    "if len(coding_regions) > 0:\n",
    "    report += \"Coding regions found:\\n\"\n",
    "    for start, stop in coding_regions:\n",
    "        report += f\"Start: {start} Stop: {stop}\\n\"\n",
    "else:\n",
    "    report += \"No coding regions found in the sequence.\"\n",
    "\n",
    "\n",
    "\n",
    "\n",
    "with open(\"DNA_SEQUENCE_ANALYSIS.txt\", \"w\") as report_file:\n",
    "    report_file.write(report)\n",
    "\n",
    "\n",
    "\n",
    "print(\"Analysis report generated as 'DNA_SEQUENCE_ANALYSIS.txt'.\")"
   ]
  },
  {
   "cell_type": "code",
   "execution_count": null,
   "id": "b4c770fe-6f47-4871-bcbd-c5f72bb9af6b",
   "metadata": {},
   "outputs": [],
   "source": []
  },
  {
   "cell_type": "code",
   "execution_count": null,
   "id": "ea212718",
   "metadata": {},
   "outputs": [],
   "source": []
  }
 ],
 "metadata": {
  "kernelspec": {
   "display_name": "Python 3 (ipykernel)",
   "language": "python",
   "name": "python3"
  },
  "language_info": {
   "codemirror_mode": {
    "name": "ipython",
    "version": 3
   },
   "file_extension": ".py",
   "mimetype": "text/x-python",
   "name": "python",
   "nbconvert_exporter": "python",
   "pygments_lexer": "ipython3",
   "version": "3.9.7"
  }
 },
 "nbformat": 4,
 "nbformat_minor": 5
}
