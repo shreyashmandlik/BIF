{
  "cells": [
    {
      "cell_type": "markdown",
      "id": "9d76cf60-4015-4dbe-ae4d-4ddba2caf1e8",
      "metadata": {
        "id": "9d76cf60-4015-4dbe-ae4d-4ddba2caf1e8"
      },
      "source": [
        "\n",
        "Assignment 5- Machine Learning for Genomic Data. Task: Apply machine learning algorithms, such as random forests or support vector machines, to classify genomic data based on specific features or markers. Deliverable: A comprehensive analysis report presenting the classification results, model performance evaluation, and insights into the predictive features."
      ]
    },
    {
      "cell_type": "code",
      "execution_count": null,
      "id": "5578e29c-f427-40bc-8fde-d0ca9fddfa6d",
      "metadata": {
        "id": "5578e29c-f427-40bc-8fde-d0ca9fddfa6d"
      },
      "outputs": [],
      "source": [
        "# Import necessary libraries\n",
        "import pandas as pd\n",
        "import numpy as np\n",
        "from sklearn.model_selection import train_test_split\n",
        "from sklearn.preprocessing import LabelEncoder\n",
        "from sklearn.ensemble import RandomForestClassifier\n",
        "from sklearn.svm import SVC\n",
        "from sklearn.metrics import classification_report, accuracy_score, confusion_matrix\n",
        "import seaborn as sns\n",
        "import matplotlib.pyplot as plt\n"
      ]
    },
    {
      "cell_type": "code",
      "execution_count": null,
      "id": "3ae52f8c-429c-40f1-b55e-2068a2da86cb",
      "metadata": {
        "id": "3ae52f8c-429c-40f1-b55e-2068a2da86cb",
        "outputId": "ce601ed3-4f6e-48d4-d171-347fad8f1968"
      },
      "outputs": [
        {
          "data": {
            "text/html": [
              "<div>\n",
              "<style scoped>\n",
              "    .dataframe tbody tr th:only-of-type {\n",
              "        vertical-align: middle;\n",
              "    }\n",
              "\n",
              "    .dataframe tbody tr th {\n",
              "        vertical-align: top;\n",
              "    }\n",
              "\n",
              "    .dataframe thead th {\n",
              "        text-align: right;\n",
              "    }\n",
              "</style>\n",
              "<table border=\"1\" class=\"dataframe\">\n",
              "  <thead>\n",
              "    <tr style=\"text-align: right;\">\n",
              "      <th></th>\n",
              "      <th>date</th>\n",
              "      <th>area</th>\n",
              "      <th>area_type</th>\n",
              "      <th>variant_name</th>\n",
              "      <th>specimens</th>\n",
              "      <th>percentage</th>\n",
              "      <th>specimens_7d_avg</th>\n",
              "      <th>percentage_7d_avg</th>\n",
              "    </tr>\n",
              "  </thead>\n",
              "  <tbody>\n",
              "    <tr>\n",
              "      <th>0</th>\n",
              "      <td>01-01-2021</td>\n",
              "      <td>California</td>\n",
              "      <td>State</td>\n",
              "      <td>Alpha</td>\n",
              "      <td>1</td>\n",
              "      <td>1.69</td>\n",
              "      <td>NaN</td>\n",
              "      <td>NaN</td>\n",
              "    </tr>\n",
              "    <tr>\n",
              "      <th>1</th>\n",
              "      <td>01-01-2021</td>\n",
              "      <td>California</td>\n",
              "      <td>State</td>\n",
              "      <td>Lambda</td>\n",
              "      <td>0</td>\n",
              "      <td>0.00</td>\n",
              "      <td>NaN</td>\n",
              "      <td>NaN</td>\n",
              "    </tr>\n",
              "    <tr>\n",
              "      <th>2</th>\n",
              "      <td>01-01-2021</td>\n",
              "      <td>California</td>\n",
              "      <td>State</td>\n",
              "      <td>Other</td>\n",
              "      <td>29</td>\n",
              "      <td>49.15</td>\n",
              "      <td>NaN</td>\n",
              "      <td>NaN</td>\n",
              "    </tr>\n",
              "    <tr>\n",
              "      <th>3</th>\n",
              "      <td>01-01-2021</td>\n",
              "      <td>California</td>\n",
              "      <td>State</td>\n",
              "      <td>Epsilon</td>\n",
              "      <td>28</td>\n",
              "      <td>47.46</td>\n",
              "      <td>NaN</td>\n",
              "      <td>NaN</td>\n",
              "    </tr>\n",
              "    <tr>\n",
              "      <th>4</th>\n",
              "      <td>01-01-2021</td>\n",
              "      <td>California</td>\n",
              "      <td>State</td>\n",
              "      <td>Omicron</td>\n",
              "      <td>1</td>\n",
              "      <td>1.69</td>\n",
              "      <td>NaN</td>\n",
              "      <td>NaN</td>\n",
              "    </tr>\n",
              "  </tbody>\n",
              "</table>\n",
              "</div>"
            ],
            "text/plain": [
              "         date        area area_type variant_name  specimens  percentage  \\\n",
              "0  01-01-2021  California     State        Alpha          1        1.69   \n",
              "1  01-01-2021  California     State       Lambda          0        0.00   \n",
              "2  01-01-2021  California     State        Other         29       49.15   \n",
              "3  01-01-2021  California     State      Epsilon         28       47.46   \n",
              "4  01-01-2021  California     State      Omicron          1        1.69   \n",
              "\n",
              "   specimens_7d_avg  percentage_7d_avg  \n",
              "0               NaN                NaN  \n",
              "1               NaN                NaN  \n",
              "2               NaN                NaN  \n",
              "3               NaN                NaN  \n",
              "4               NaN                NaN  "
            ]
          },
          "execution_count": 2,
          "metadata": {},
          "output_type": "execute_result"
        }
      ],
      "source": [
        "# Load the dataset\n",
        "file_path = 'Genomics.csv'  # Adjust path if needed\n",
        "genomics_data = pd.read_csv('Genomics.csv')\n",
        "\n",
        "# Display the first few rows\n",
        "genomics_data.head()"
      ]
    },
    {
      "cell_type": "code",
      "execution_count": null,
      "id": "421f2bad-0f2b-460e-ab42-efc7ad67623e",
      "metadata": {
        "id": "421f2bad-0f2b-460e-ab42-efc7ad67623e",
        "outputId": "397879bc-060f-4757-f2e0-31fbed3c9752"
      },
      "outputs": [
        {
          "name": "stderr",
          "output_type": "stream",
          "text": [
            "C:\\ProgramData\\Anaconda3\\lib\\site-packages\\pandas\\core\\frame.py:5176: SettingWithCopyWarning: \n",
            "A value is trying to be set on a copy of a slice from a DataFrame\n",
            "\n",
            "See the caveats in the documentation: https://pandas.pydata.org/pandas-docs/stable/user_guide/indexing.html#returning-a-view-versus-a-copy\n",
            "  return super().fillna(\n"
          ]
        }
      ],
      "source": [
        "# Drop rows with missing values\n",
        "genomics_data = genomics_data.dropna()\n",
        "\n",
        "# Encode the target variable (variant_name) using LabelEncoder\n",
        "label_encoder = LabelEncoder()\n",
        "genomics_data['variant_label'] = label_encoder.fit_transform(genomics_data['variant_name'])\n",
        "\n",
        "# Features and target\n",
        "X = genomics_data[['specimens', 'percentage', 'specimens_7d_avg', 'percentage_7d_avg']]\n",
        "y = genomics_data['variant_label']\n",
        "\n",
        "# Fill any remaining NaN values with 0 in the feature columns (for safety)\n",
        "X.fillna(0, inplace=True)\n",
        "\n",
        "# Split the dataset into training and testing sets (80% train, 20% test)\n",
        "X_train, X_test, y_train, y_test = train_test_split(X, y, test_size=0.2, random_state=42)\n"
      ]
    },
    {
      "cell_type": "code",
      "execution_count": null,
      "id": "c01f5181-4d18-4d6d-bf5f-aa3db637ebb5",
      "metadata": {
        "id": "c01f5181-4d18-4d6d-bf5f-aa3db637ebb5",
        "outputId": "955c2494-3138-4caa-9c5c-65e23a1e8858"
      },
      "outputs": [
        {
          "name": "stdout",
          "output_type": "stream",
          "text": [
            "Random Forest Classification Report:\n",
            "               precision    recall  f1-score   support\n",
            "\n",
            "           0       0.48      0.20      0.28       131\n",
            "           1       0.15      0.87      0.26       137\n",
            "           2       0.57      0.34      0.43       144\n",
            "           3       0.56      0.16      0.24       160\n",
            "           4       0.54      0.15      0.24       164\n",
            "           5       0.33      0.05      0.09       167\n",
            "           6       0.39      0.09      0.14       147\n",
            "           7       0.82      0.61      0.70       160\n",
            "           8       0.71      0.81      0.76       169\n",
            "           9       1.00      1.00      1.00       167\n",
            "\n",
            "    accuracy                           0.43      1546\n",
            "   macro avg       0.56      0.43      0.41      1546\n",
            "weighted avg       0.57      0.43      0.42      1546\n",
            "\n",
            "Random Forest Accuracy Score: 0.4320827943078913\n"
          ]
        }
      ],
      "source": [
        "# Initialize the Random Forest model\n",
        "rf_classifier = RandomForestClassifier(n_estimators=100, random_state=42)\n",
        "\n",
        "# Train the model\n",
        "rf_classifier.fit(X_train, y_train)\n",
        "\n",
        "# Make predictions on the test set\n",
        "y_pred_rf = rf_classifier.predict(X_test)\n",
        "\n",
        "# Evaluate the model performance\n",
        "print(\"Random Forest Classification Report:\\n\", classification_report(y_test, y_pred_rf))\n",
        "print(\"Random Forest Accuracy Score:\", accuracy_score(y_test, y_pred_rf))\n"
      ]
    },
    {
      "cell_type": "code",
      "execution_count": null,
      "id": "dd3c6acb-f103-47eb-8cab-80ce9cacb6f0",
      "metadata": {
        "id": "dd3c6acb-f103-47eb-8cab-80ce9cacb6f0",
        "outputId": "cc85e68d-48e5-4f61-8cdf-9091fbc6a0f5"
      },
      "outputs": [
        {
          "data": {
            "image/png": "[encoded data removed]",
            "text/plain": [
              "<Figure size 432x288 with 2 Axes>"
            ]
          },
          "metadata": {
            "needs_background": "light"
          },
          "output_type": "display_data"
        }
      ],
      "source": [
        "#heatmap for Random Forest\n",
        "cm_rf = confusion_matrix(y_test, y_pred_rf)\n",
        "sns.heatmap(cm_rf, annot=True, fmt='d', cmap='Blues')\n",
        "plt.title('Random Forest Heatmap')\n",
        "plt.xlabel('Predicted')\n",
        "plt.ylabel('Actual')\n",
        "plt.show()"
      ]
    },
    {
      "cell_type": "code",
      "execution_count": null,
      "id": "fb0ddb32-05d7-47ee-892a-709cf41a0730",
      "metadata": {
        "id": "fb0ddb32-05d7-47ee-892a-709cf41a0730",
        "outputId": "c50dcbcd-9172-41ac-d674-da63cdfafd9e"
      },
      "outputs": [
        {
          "name": "stdout",
          "output_type": "stream",
          "text": [
            "SVM Classification Report:\n",
            "               precision    recall  f1-score   support\n",
            "\n",
            "           0       0.22      0.09      0.13       131\n",
            "           1       0.14      0.95      0.24       137\n",
            "           2       0.67      0.03      0.05       144\n",
            "           3       0.45      0.03      0.06       160\n",
            "           4       0.11      0.07      0.09       164\n",
            "           5       0.00      0.00      0.00       167\n",
            "           6       0.26      0.06      0.10       147\n",
            "           7       0.64      0.52      0.57       160\n",
            "           8       0.39      0.13      0.19       169\n",
            "           9       0.96      1.00      0.98       167\n",
            "\n",
            "    accuracy                           0.29      1546\n",
            "   macro avg       0.38      0.29      0.24      1546\n",
            "weighted avg       0.39      0.29      0.25      1546\n",
            "\n",
            "SVM Accuracy Score: 0.2871927554980595\n"
          ]
        }
      ],
      "source": [
        "svm_classifier = SVC(kernel='linear')\n",
        "\n",
        "svm_classifier.fit(X_train, y_train)\n",
        "\n",
        "y_pred_svm = svm_classifier.predict(X_test)\n",
        "\n",
        "print(\"SVM Classification Report:\\n\", classification_report(y_test, y_pred_svm))\n",
        "print(\"SVM Accuracy Score:\", accuracy_score(y_test, y_pred_svm))"
      ]
    },
    {
      "cell_type": "code",
      "execution_count": null,
      "id": "9c2019bc",
      "metadata": {
        "id": "9c2019bc",
        "outputId": "9280b555-43ac-4634-c7ff-37da996d0a70"
      },
      "outputs": [
        {
          "data": {
            "image/png": "[encoded data removed]",
            "text/plain": [
              "<Figure size 432x288 with 2 Axes>"
            ]
          },
          "metadata": {
            "needs_background": "light"
          },
          "output_type": "display_data"
        }
      ],
      "source": [
        "cm_svm = confusion_matrix(y_test, y_pred_svm)\n",
        "sns.heatmap(cm_svm, annot=True, fmt='d', cmap='Greens')\n",
        "plt.title('SVM Heatmap')\n",
        "plt.xlabel('Predicted')\n",
        "plt.ylabel('Actual')\n",
        "plt.show()"
      ]
    },
    {
      "cell_type": "code",
      "execution_count": null,
      "id": "eb7321a2",
      "metadata": {
        "id": "eb7321a2",
        "outputId": "580bd585-dc5a-495b-ac3f-3f28504d9c09"
      },
      "outputs": [
        {
          "data": {
            "image/png": "[encoded data removed]",
            "text/plain": [
              "<Figure size 576x432 with 1 Axes>"
            ]
          },
          "metadata": {
            "needs_background": "light"
          },
          "output_type": "display_data"
        }
      ],
      "source": [
        "feature_importances = rf_classifier.feature_importances_\n",
        "features = X.columns\n",
        "\n",
        "plt.figure(figsize=(8, 6))\n",
        "sns.barplot(x=feature_importances, y=features)\n",
        "plt.title('Feature Importance (Random Forest)')\n",
        "plt.show()"
      ]
    },
    {
      "cell_type": "code",
      "execution_count": null,
      "id": "a0fafa52",
      "metadata": {
        "id": "a0fafa52",
        "outputId": "6056653f-cf5b-406e-fdee-d15a4a70f588"
      },
      "outputs": [
        {
          "name": "stdout",
          "output_type": "stream",
          "text": [
            "+---------------+------------+\n",
            "| Algorithm     |   Accuracy |\n",
            "+===============+============+\n",
            "| Random Forest |   0.432083 |\n",
            "+---------------+------------+\n",
            "| SVM           |   0.287193 |\n",
            "+---------------+------------+\n"
          ]
        }
      ],
      "source": [
        "from tabulate import tabulate\n",
        "\n",
        "rf_accuracy = accuracy_score(y_test, y_pred_rf)\n",
        "svm_accuracy = accuracy_score(y_test, y_pred_svm)\n",
        "\n",
        "# Create a list of dictionaries for each algorithm's performance\n",
        "data = [\n",
        "    {'Algorithm': 'Random Forest', 'Accuracy': rf_accuracy},\n",
        "    {'Algorithm': 'SVM', 'Accuracy': svm_accuracy}\n",
        "]\n",
        "\n",
        "# Create a comparison table using tabulate\n",
        "table = tabulate(data, headers='keys', tablefmt='grid')\n",
        "\n",
        "# Print the table\n",
        "print(table)"
      ]
    },
    {
      "cell_type": "code",
      "execution_count": null,
      "id": "f2c1b3dc",
      "metadata": {
        "id": "f2c1b3dc"
      },
      "outputs": [],
      "source": []
    }
  ],
  "metadata": {
    "kernelspec": {
      "display_name": "Python 3 (ipykernel)",
      "language": "python",
      "name": "python3"
    },
    "language_info": {
      "codemirror_mode": {
        "name": "ipython",
        "version": 3
      },
      "file_extension": ".py",
      "mimetype": "text/x-python",
      "name": "python",
      "nbconvert_exporter": "python",
      "pygments_lexer": "ipython3",
      "version": "3.9.7"
    },
    "colab": {
      "provenance": []
    }
  },
  "nbformat": 4,
  "nbformat_minor": 5
}